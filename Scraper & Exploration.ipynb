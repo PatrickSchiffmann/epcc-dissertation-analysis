{
 "cells": [
  {
   "cell_type": "code",
   "execution_count": 4,
   "metadata": {
    "collapsed": false
   },
   "outputs": [
    {
     "name": "stdout",
     "output_type": "stream",
     "text": [
      "Populating the interactive namespace from numpy and matplotlib\n"
     ]
    }
   ],
   "source": [
    "from lxml import html\n",
    "import requests\n",
    "import os\n",
    "import pandas as pd\n",
    "import glob\n",
    "import subprocess\n",
    "%pylab inline"
   ]
  },
  {
   "cell_type": "code",
   "execution_count": 6,
   "metadata": {
    "collapsed": false
   },
   "outputs": [],
   "source": [
    "ROOT_URL = \"http://www.epcc.ed.ac.uk/msc/programmes/programme-structure/dissertation\"\n",
    "BASE_URL = \"http://www.epcc.ed.ac.uk\"\n",
    "TARGET_DIR = \"dissertations\""
   ]
  },
  {
   "cell_type": "markdown",
   "metadata": {},
   "source": [
    "# Scraping dissertations"
   ]
  },
  {
   "cell_type": "code",
   "execution_count": 67,
   "metadata": {
    "collapsed": true
   },
   "outputs": [],
   "source": [
    "def get_dissertation_pages(root_url, base_url):\n",
    "    page = requests.get(ROOT_URL)\n",
    "    tree = html.fromstring(page.content)\n",
    "    return [base_url + _.attrib[\"href\"] for _ in tree.xpath(\".//div[@property='content:encoded']/ul/li/a\")[1:]]"
   ]
  },
  {
   "cell_type": "code",
   "execution_count": 68,
   "metadata": {
    "collapsed": false
   },
   "outputs": [],
   "source": [
    "dissertation_pages = get_dissertation_pages(ROOT_URL, BASE_URL)"
   ]
  },
  {
   "cell_type": "code",
   "execution_count": 103,
   "metadata": {
    "collapsed": false
   },
   "outputs": [],
   "source": [
    "def get_pdf_urls(dissertation_page, prefix=\"http://\"):\n",
    "    page = requests.get(dissertation_page)\n",
    "    tree = html.fromstring(page.content)\n",
    "    return [prefix + _.attrib[\"href\"][2:] for _ in tree.xpath(\".//div[@property='content:encoded']/ul/li/a\")]"
   ]
  },
  {
   "cell_type": "code",
   "execution_count": 111,
   "metadata": {
    "collapsed": false
   },
   "outputs": [
    {
     "name": "stdout",
     "output_type": "stream",
     "text": [
      "2014-2015: 11 dissertation(s)\n",
      "2013-2014: 17 dissertation(s)\n",
      "2012-2013: 25 dissertation(s)\n",
      "2011-2012: 21 dissertation(s)\n",
      "2010-2011: 32 dissertation(s)\n",
      "2009-2010: 20 dissertation(s)\n",
      "2008-2009: 14 dissertation(s)\n",
      "2007-2008: 22 dissertation(s)\n",
      "2006-2007: 16 dissertation(s)\n",
      "2005-2006: 17 dissertation(s)\n",
      "2004-2005: 10 dissertation(s)\n",
      "2003-2004: 9 dissertation(s)\n",
      "2002-2003: 8 dissertation(s)\n",
      "2001-2002: 2 dissertation(s)\n"
     ]
    }
   ],
   "source": [
    "urls = {}\n",
    "for dp in dissertation_pages:\n",
    "    year = dp.rsplit(\"/\", 1)[1]\n",
    "    urls[year] = get_pdf_urls(dp)\n",
    "    print \"{0}: {1} dissertation(s)\".format(year, len(urls[year]))"
   ]
  },
  {
   "cell_type": "code",
   "execution_count": 128,
   "metadata": {
    "collapsed": false
   },
   "outputs": [],
   "source": [
    "def download_pdfs(urls, target_dir):\n",
    "    if not os.path.exists(target_dir):\n",
    "        os.makedirs(target_dir)\n",
    "        \n",
    "    for year in urls:\n",
    "        print \"Processing year {0}\".format(year)\n",
    "        \n",
    "        year_dir = target_dir + os.sep + year\n",
    "        if not os.path.exists(year_dir):\n",
    "            os.makedirs(year_dir)\n",
    "            \n",
    "        for url in urls[year]:\n",
    "            filename = url.rsplit(\"/\", 1)[1]\n",
    "            filepath = year_dir + os.sep + filename\n",
    "            \n",
    "            if not os.path.exists(filepath):\n",
    "                print \"Download {0}\".format(filepath)\n",
    "            \n",
    "                r = requests.get(url)\n",
    "                with open(filepath, \"wb\") as outfile:\n",
    "                    outfile.write(r.content)"
   ]
  },
  {
   "cell_type": "code",
   "execution_count": 129,
   "metadata": {
    "collapsed": false
   },
   "outputs": [
    {
     "name": "stdout",
     "output_type": "stream",
     "text": [
      "Processing year 2009-2010\n",
      "Processing year 2002-2003\n",
      "Processing year 2013-2014\n",
      "Processing year 2005-2006\n",
      "Processing year 2007-2008\n",
      "Processing year 2014-2015\n",
      "Processing year 2004-2005\n",
      "Processing year 2003-2004\n",
      "Processing year 2001-2002\n",
      "Processing year 2011-2012\n",
      "Processing year 2006-2007\n",
      "Processing year 2010-2011\n",
      "Processing year 2008-2009\n",
      "Processing year 2012-2013\n"
     ]
    }
   ],
   "source": [
    "download_pdfs(urls, TARGET_DIR)"
   ]
  },
  {
   "cell_type": "code",
   "execution_count": 183,
   "metadata": {
    "collapsed": false
   },
   "outputs": [
    {
     "name": "stdout",
     "output_type": "stream",
     "text": [
      "dissertations/2001-2002/ajackson.pdf\n",
      "dissertations/2001-2002/jhill.pdf\n",
      "dissertations/2002-2003/1944495_12b-1.1.pdf\n",
      "dissertations/2002-2003/2450669_12b-1.1.pdf\n",
      "dissertations/2002-2003/2453500_12b-1.1.pdf\n",
      "dissertations/2002-2003/2453672_12b-1.1.pdf\n",
      "dissertations/2002-2003/2453683_12b-1.3.pdf\n",
      "dissertations/2002-2003/2456009_12b-1.1.pdf\n",
      "dissertations/2002-2003/2456502_12b-1.1.pdf\n",
      "dissertations/2002-2003/2456505_12b-1.1.pdf\n",
      "dissertations/2003-2004/1021818_12b-1.1.pdf\n",
      "dissertations/2003-2004/2561612_12b-1.1.pdf\n",
      "dissertations/2003-2004/2561806_12b-1.2.pdf\n",
      "dissertations/2003-2004/2562962_12b-1.2.pdf\n",
      "dissertations/2003-2004/2562964_12b-1.2.pdf\n",
      "dissertations/2003-2004/2565516_12b-1.1.pdf\n",
      "dissertations/2003-2004/2565606_12b-1.1.pdf\n",
      "dissertations/2003-2004/2566945_12b-1.1.pdf\n",
      "dissertations/2003-2004/2567653_12b-1.2.pdf\n",
      "dissertations/2004-2005/0308429-9j-dissertation1.1.pdf\n",
      "dissertations/2004-2005/0762240-9j-dissertation1.1.pdf\n",
      "dissertations/2004-2005/0764527-9j-dissertation1.2.pdf\n",
      "dissertations/2004-2005/3098485-9c-dissertation1.1.pdf\n",
      "dissertations/2004-2005/6328222-9f-dissertation1.5.pdf\n",
      "dissertations/2004-2005/6329323-9f-dissertation1.1.pdf\n",
      "dissertations/2004-2005/6333284-9f-dissertation1.2.pdf\n",
      "dissertations/2004-2005/9650373-9i-dissertation1.3.pdf\n",
      "dissertations/2004-2005/9650843-9i-dissertation1.1.pdf\n",
      "dissertations/2004-2005/9657575-9i-dissertation1.2.pdf\n",
      "dissertations/2005-2006/1361643-24f-dissertation1.1.pdf\n",
      "dissertations/2005-2006/1386643-9f-dissertation1.1.pdf\n",
      "dissertations/2005-2006/1533363-9c-dissertation1.1.pdf\n",
      "dissertations/2005-2006/2071976-9i-dissertation1.1.pdf\n",
      "dissertations/2005-2006/2391976-9i-dissertation1.1.pdf\n",
      "dissertations/2005-2006/2688821-9h-dissertation1.1.pdf\n",
      "dissertations/2005-2006/3224087-9j-dissertation1.4.pdf\n",
      "dissertations/2005-2006/3365198-9a-dissertation1.3.pdf\n",
      "dissertations/2005-2006/3545209-9b-dissertation1.3.pdf\n",
      "dissertations/2005-2006/4662310-9c-dissertation1.1.pdf\n",
      "dissertations/2005-2006/6972209-9b-dissertation1.2.pdf\n",
      "dissertations/2005-2006/7808310-9c-dissertation1.1.pdf\n",
      "dissertations/2005-2006/7841310-9c-dissertation1.1.pdf\n",
      "dissertations/2005-2006/7844421-24d-dissertation1.1.pdf\n",
      "dissertations/2005-2006/8550532-9e-dissertation1.1.pdf\n",
      "dissertations/2005-2006/bdobbins.pdf\n",
      "dissertations/2005-2006/hjagode.pdf\n",
      "dissertations/2006-2007/0096543-27e-d07rep1.1.pdf\n",
      "dissertations/2006-2007/0459988.pdf\n",
      "dissertations/2006-2007/0773421-27d-d07rep1.3.pdf\n",
      "dissertations/2006-2007/1329987-27i-d07rep1.1.pdf\n",
      "dissertations/2006-2007/1760876-27h-d07rep1.1.pdf\n",
      "dissertations/2006-2007/2298876-27h-d07rep1.1.pdf\n",
      "dissertations/2006-2007/3264543-27e-d07rep1.1.pdf\n",
      "dissertations/2006-2007/3849987-29i-dissrev071.1.pdf\n",
      "dissertations/2006-2007/4458210-27b-d07rep1.1.pdf\n",
      "dissertations/2006-2007/4860210-27b-d07rep1.3.pdf\n",
      "dissertations/2006-2007/5680321-27c-d07rep1.2.pdf\n",
      "dissertations/2006-2007/6547365-27d-d07rep1.2.pdf\n",
      "dissertations/2006-2007/8991210-27b-d07rep1.2.pdf\n",
      "dissertations/2006-2007/Albert-Antony.pdf\n",
      "dissertations/2006-2007/Bruce-Duncan.pdf\n",
      "dissertations/2006-2007/Geraldine-McKenna.pdf\n",
      "dissertations/2007-2008/Alastair_Smith.pdf\n",
      "dissertations/2007-2008/Ali_Khajeh_Hosseini.pdf\n",
      "dissertations/2007-2008/Diego_Virasoro.pdf\n",
      "dissertations/2007-2008/Emilia_Tang.pdf\n",
      "dissertations/2007-2008/Erlend_Davidson.pdf\n",
      "dissertations/2007-2008/Fountanas_Angelos.pdf\n",
      "dissertations/2007-2008/Ian_Kirker.pdf\n",
      "dissertations/2007-2008/Jianfei_Fu.pdf\n",
      "dissertations/2007-2008/Jim_Enright.pdf\n",
      "dissertations/2007-2008/Josh_Green.pdf\n",
      "dissertations/2007-2008/Muhammad_Sarwar.pdf\n",
      "dissertations/2007-2008/Nadia_Ameer.pdf\n",
      "dissertations/2007-2008/Nicholas_Pattakos.pdf\n",
      "dissertations/2007-2008/Nitya_Hariharan.pdf\n",
      "dissertations/2007-2008/Paul_Woodhams.pdf\n",
      "dissertations/2007-2008/Peter_Alexander_Foster.pdf\n",
      "dissertations/2007-2008/Qi_Huangfu.pdf\n",
      "dissertations/2007-2008/Sarah_Farrier.pdf\n",
      "dissertations/2007-2008/Solon_Pissis.pdf\n",
      "dissertations/2007-2008/Steve_Lawson.pdf\n",
      "dissertations/2007-2008/Thom_Haddow.pdf\n",
      "dissertations/2007-2008/Yi_Deng.pdf\n",
      "dissertations/2008-2009/Alan_Richardson.pdf\n",
      "dissertations/2008-2009/Antonia_Collis.pdf\n",
      "dissertations/2008-2009/Christopher_Evi-Parker.pdf\n",
      "dissertations/2008-2009/Fan_Zhu.pdf\n",
      "dissertations/2008-2009/Hui_Jiang.pdf\n",
      "dissertations/2008-2009/James_Read.pdf\n",
      "dissertations/2008-2009/Mark_Tucker.pdf\n",
      "dissertations/2008-2009/Pablo_Barrio.pdf\n",
      "dissertations/2008-2009/Rajesh_Babu.pdf\n",
      "dissertations/2008-2009/Sainaith_Lakshminarayanan.pdf\n",
      "dissertations/2008-2009/Savvas_Petrou.pdf\n",
      "dissertations/2008-2009/Srinivasa_Ongole.pdf\n",
      "dissertations/2008-2009/Wei_Wang.pdf\n",
      "dissertations/2008-2009/Yating_Li.pdf\n",
      "dissertations/2009-2010/Alan%20Kelly.pdf\n",
      "dissertations/2009-2010/Alvaro%20Ruiz%20Serrano.pdf\n",
      "dissertations/2009-2010/Anastasios%20Stathopoulos.pdf\n",
      "dissertations/2009-2010/Andrew%20Myers.pdf\n",
      "dissertations/2009-2010/Chris%20Jones.pdf\n",
      "dissertations/2009-2010/Daniel%20Wilde.pdf\n",
      "dissertations/2009-2010/Einar%20Pius.pdf\n",
      "dissertations/2009-2010/Gavin%20Reynolds.pdf\n",
      "dissertations/2009-2010/Joe%20Harkness.pdf\n",
      "dissertations/2009-2010/Karthee%20Sivalingam.pdf\n",
      "dissertations/2009-2010/Laurence%20Baldwin.pdf\n",
      "dissertations/2009-2010/Michael%20Pettit.pdf\n",
      "dissertations/2009-2010/Olivier%20Goury.pdf\n",
      "dissertations/2009-2010/Perri%20Needham.pdf\n",
      "dissertations/2009-2010/Qiaowei%20Wang.pdf\n",
      "dissertations/2009-2010/Stefan%20Wysocki.pdf\n",
      "dissertations/2009-2010/Stuart%20Fraser.pdf\n",
      "dissertations/2009-2010/Vairavan%20Murugappan.pdf\n",
      "dissertations/2009-2010/Xiaotian%20Xu.pdf\n",
      "dissertations/2010-2011/AhmedMohamedHassanAbdalla.pdf\n",
      "dissertations/2010-2011/AleksandarDraganov.pdf\n",
      "dissertations/2010-2011/AlexHunt.pdf\n",
      "dissertations/2010-2011/ConstantinosChristofi.pdf\n",
      "dissertations/2010-2011/DanielRobinson.pdf\n",
      "dissertations/2010-2011/DipeshDebnath.pdf\n",
      "dissertations/2010-2011/EvangelosBrachos.pdf\n",
      "dissertations/2010-2011/GaetanoCalabro.pdf\n",
      "dissertations/2010-2011/GuobinYe.pdf\n",
      "dissertations/2010-2011/GuoYu.pdf\n",
      "dissertations/2010-2011/IakovosPanourgias.pdf\n",
      "dissertations/2010-2011/IoannisTsilkos.pdf\n",
      "dissertations/2010-2011/JayChetty.pdf\n",
      "dissertations/2010-2011/JoshuaEke.pdf\n",
      "dissertations/2010-2011/KingsleyGale-Sides.pdf\n",
      "dissertations/2010-2011/KonstantinKudryavtsev.pdf\n",
      "dissertations/2010-2011/LesleisNagy.pdf\n",
      "dissertations/2010-2011/LuisCebamanos.pdf\n",
      "dissertations/2010-2011/OmkarKulkarni.pdf\n",
      "dissertations/2010-2011/OrestisAgathokleous.pdf\n",
      "dissertations/2010-2011/PanagiotisKritikakos.pdf\n",
      "dissertations/2010-2011/PaulRoss.pdf\n",
      "dissertations/2010-2011/PeterSanderson.pdf\n",
      "dissertations/2010-2011/PramodKumbhar.pdf\n",
      "dissertations/2010-2011/RajeshwarSinghBisht.pdf\n",
      "dissertations/2010-2011/SaifMulla.pdf\n",
      "dissertations/2010-2011/SalimChedrawi.pdf\n",
      "dissertations/2010-2011/SpiliosAlexopoulos.pdf\n",
      "dissertations/2010-2011/TadeuszJanowski.pdf\n",
      "dissertations/2010-2011/ThomasRichard.pdf\n",
      "dissertations/2010-2011/VinaySudhakaran.pdf\n",
      "dissertations/2010-2011/VinodhVedachalam.pdf\n",
      "dissertations/2011-2012/Micheal%20Holiday.pdf\n",
      "dissertations/2011-2012/Submission-0955712.pdf\n",
      "dissertations/2011-2012/Submission-1028491.pdf\n",
      "dissertations/2011-2012/Submission-1054977.pdf\n",
      "dissertations/2011-2012/Submission-1057985.pdf\n",
      "dissertations/2011-2012/Submission-1065901.pdf\n",
      "dissertations/2011-2012/Submission-1123911.pdf\n",
      "dissertations/2011-2012/Submission-1126390.pdf\n",
      "dissertations/2011-2012/Submission-1131111.pdf\n",
      "dissertations/2011-2012/Submission-1138832.pdf\n",
      "dissertations/2011-2012/Submission-1140525.pdf\n",
      "dissertations/2011-2012/Submission-1146632.pdf\n",
      "dissertations/2011-2012/Submission-1147228.pdf\n",
      "dissertations/2011-2012/Submission-1147711.pdf\n",
      "dissertations/2011-2012/Submission-1148619.pdf\n",
      "dissertations/2011-2012/Submission-1149926.pdf\n",
      "dissertations/2011-2012/Submission-1149948.pdf\n",
      "dissertations/2011-2012/Submission-1150361.pdf\n",
      "dissertations/2011-2012/Submission-1153044.pdf\n",
      "dissertations/2011-2012/Submission-1153915.pdf\n",
      "dissertations/2011-2012/Submission-1159397.pdf\n",
      "dissertations/2012-2013/A%20hybrid%20MPI%20-%20OpenMP%20Parallelisation%20of%20a%20Tax%20and%20Benefits%20Application.pdf\n",
      "dissertations/2012-2013/Accelerated%20Primality%20Testing%20Using%20GPUs.pdf\n",
      "dissertations/2012-2013/An%20implementation%20of%20the%20Coarray%20Programming%20Model%20in%20C%2B%2B.pdf\n",
      "dissertations/2012-2013/Bigger%2C%20Better%20BigJob%20-%20Pilot-Job%20frameworks%20for%20large%20scale%20simulations.pdf\n",
      "dissertations/2012-2013/Diagrammatic%20Determinantal%20Quantum%20Monte%20Carlo%20Calculations%20on%20GPUs.pdf\n",
      "dissertations/2012-2013/Energy%20Efficiency%20Analysis%20of%20the%20SoC%20Based%20Processors%20for%20The%20Scientfic%20Applications.pdf\n",
      "dissertations/2012-2013/Finding%20Wally%20-%20Parallel%20Object%20Recognition.pdf\n",
      "dissertations/2012-2013/GPU%20Based%20Dose%20Calculation.pdf\n",
      "dissertations/2012-2013/HPC%20Image%20analysis%20for%20Radiotherapy%20Planning.pdf\n",
      "dissertations/2012-2013/Improving%20Job%20Node%20Allocation%20on%20HECToR%20in%20Various%20Topological%20Manifestations.pdf\n",
      "dissertations/2012-2013/Investigating%20power%20efficiency%20and%20col-location%20effects%20on%20heteorgeneous%20HPC%20architectures.pdf\n",
      "dissertations/2012-2013/Investigating%20Pricing%20and%20Negotiation%20Models%20for%20Cloud%20Computing.pdf\n",
      "dissertations/2012-2013/Investigating%20the%20use%20of%20GPUs%20with%20a%20Monte%20Carlo%20Astrophysical%20Simulation.pdf\n",
      "dissertations/2012-2013/Medical%20Image%20Processing%20on%20Intel%20Parallel%20Framework.pdf\n",
      "dissertations/2012-2013/New%20micro-benchmarking%20to%20investigate%20the%20scalability%20of%20MPI%20point-to-point%20matching.pdf\n",
      "dissertations/2012-2013/Optimising%20GS2%20through%20Hybrid%20Parallelisation.pdf\n",
      "dissertations/2012-2013/Optimising%20PLINK.pdf\n",
      "dissertations/2012-2013/Performance%20Investigation%20and%20Parallelisation%20of%20the%20CosmoNest%20code_0.pdf\n",
      "dissertations/2012-2013/Point%20Cloud%20Visualisation.pdf\n",
      "dissertations/2012-2013/Poisson%20Solvers%20for%20Electrokinetic%20Problems.pdf\n",
      "dissertations/2012-2013/Pseudo%20Random%20Number%20Generators%20on%20Graphics.pdf\n",
      "dissertations/2012-2013/RDBMS%20vs%20NoSQL%20-%20Performance%20and%20Scaling%20Comparison.pdf\n",
      "dissertations/2012-2013/Thread%20Safety%20for%20Hybrid%20Programming%20in%20Thread-as-Rank%20Model.pdf\n",
      "dissertations/2012-2013/Towards%20Exascale%20Molecular%20Dynamics.pdf\n",
      "dissertations/2012-2013/Visual%20Parallel%20Programming.pdf\n",
      "dissertations/2013-2014/A comparison of parallel solutions in retinal imaging.pdf\n",
      "dissertations/2013-2014/A GUI that Enables Users.pdf\n",
      "dissertations/2013-2014/Accelerating Random Forest classification using GPGPUs.pdf\n",
      "dissertations/2013-2014/Characterising Bipartite Graph Matching Algorithms on GPUs.pdf\n",
      "dissertations/2013-2014/Development of Responsive Multi-Device Applications within Apple Ecosystem.pdf\n",
      "dissertations/2013-2014/Dynamic Load Balancing in CP2K.pdf\n",
      "dissertations/2013-2014/Energy Efficiency: Benefits and Limitations of Modern HPC Architectures.pdf\n",
      "dissertations/2013-2014/Hapbin: An Efficient Method for Calculating EHH and iHS of Genetic Datasets.pdf\n",
      "dissertations/2013-2014/High Performance LINPACK and GADGET 3 investigation.pdf\n",
      "dissertations/2013-2014/Improving the Alignment of Medical Images using HPC.pdf\n",
      "dissertations/2013-2014/Improving the performance of Molecular Modelling code in TINKER.pdf\n",
      "dissertations/2013-2014/Investigation and Implementation of an Eigensolver Method.pdf\n",
      "dissertations/2013-2014/Investigation of the OpenCL SYCL Programming Model.pdf\n",
      "dissertations/2013-2014/Mesh Independent Wear Modelling.pdf\n",
      "dissertations/2013-2014/Network Interconnect Evaluation on ARCHER.pdf\n",
      "dissertations/2013-2014/Parallelisation of the Coupled Coherent States quantum dynamics simulation.pdf\n",
      "dissertations/2013-2014/Semantic OWL Reasoning.pdf\n",
      "dissertations/2014-2015/A Comparison of the performance of HPC Accelerators.pdf\n",
      "dissertations/2014-2015/Accelerated Retinal Image Registration.pdf\n",
      "dissertations/2014-2015/Accelerator weather forecasting.pdf\n",
      "dissertations/2014-2015/Bitap for Parallel Approximate Nucleotide Sequence Matching.pdf\n",
      "dissertations/2014-2015/Communicating Sequential Processes in High Performance Computing.pdf\n",
      "dissertations/2014-2015/Exploring performance of Xeon Phi co-processor.pdf\n",
      "dissertations/2014-2015/From HPF to OpenMP: changing the parallelisation method of the Heavy Metals subprogram in FRAME.pdf\n",
      "dissertations/2014-2015/Investigating MPI streams as an alternative to halo exchange.pdf\n",
      "dissertations/2014-2015/Investigation of the SYCL for OpenCL Programming Model.pdf\n",
      "dissertations/2014-2015/OpenMP optimisation for the NEMD code.pdf\n",
      "dissertations/2014-2015/Retailer insights based on user preference data.pdf\n"
     ]
    }
   ],
   "source": [
    "def pdf_to_txt(pdfpath):\n",
    "    if not os.path.exists(pdfpath[:-4] + \".txt\"):\n",
    "        subprocess.call(\"pdftotext \" + pdfpath, shell=True)\n",
    "    \n",
    "for pdf in glob.glob(TARGET_DIR + \"/*/*.pdf\"):\n",
    "    print pdf\n",
    "    pdf_to_txt(pdf)"
   ]
  },
  {
   "cell_type": "markdown",
   "metadata": {},
   "source": [
    "# Analysis"
   ]
  },
  {
   "cell_type": "markdown",
   "metadata": {},
   "source": [
    "## Dissertations per year"
   ]
  },
  {
   "cell_type": "code",
   "execution_count": 168,
   "metadata": {
    "collapsed": false
   },
   "outputs": [
    {
     "data": {
      "text/html": [
       "<div>\n",
       "<table border=\"1\" class=\"dataframe\">\n",
       "  <thead>\n",
       "    <tr style=\"text-align: right;\">\n",
       "      <th></th>\n",
       "      <th>count</th>\n",
       "      <th>mean</th>\n",
       "      <th>std</th>\n",
       "      <th>min</th>\n",
       "      <th>25%</th>\n",
       "      <th>50%</th>\n",
       "      <th>75%</th>\n",
       "      <th>max</th>\n",
       "    </tr>\n",
       "  </thead>\n",
       "  <tbody>\n",
       "    <tr>\n",
       "      <th>0</th>\n",
       "      <td>14</td>\n",
       "      <td>16</td>\n",
       "      <td>7.795462</td>\n",
       "      <td>2</td>\n",
       "      <td>10.25</td>\n",
       "      <td>16.5</td>\n",
       "      <td>20.75</td>\n",
       "      <td>32</td>\n",
       "    </tr>\n",
       "  </tbody>\n",
       "</table>\n",
       "</div>"
      ],
      "text/plain": [
       "   count  mean       std  min    25%   50%    75%  max\n",
       "0     14    16  7.795462    2  10.25  16.5  20.75   32"
      ]
     },
     "execution_count": 168,
     "metadata": {},
     "output_type": "execute_result"
    },
    {
     "data": {
      "image/png": "[encoded data removed]",
      "text/plain": [
       "<matplotlib.figure.Figure at 0x10e8d8950>"
      ]
     },
     "metadata": {},
     "output_type": "display_data"
    }
   ],
   "source": [
    "counts = {}\n",
    "for year in sorted(urls):\n",
    "    second_year = int(year.rsplit(\"-\", 1)[1])\n",
    "    counts[second_year] = len(urls[year])\n",
    "df = pd.DataFrame(pd.Series(counts))\n",
    "ax = df.plot(kind=\"bar\", legend=None)\n",
    "ax.set_xlabel(\"Hand-in Year\")\n",
    "ax.set_ylabel(\"Dissertation count\")\n",
    "df.describe().transpose()"
   ]
  },
  {
   "cell_type": "markdown",
   "metadata": {},
   "source": [
    "## Length of dissertations\n",
    "Needs work - GNU wc probably counts afaik space separated tokens"
   ]
  },
  {
   "cell_type": "code",
   "execution_count": null,
   "metadata": {
    "collapsed": false
   },
   "outputs": [],
   "source": [
    "wordcounts = {}\n",
    "for txt in glob.glob(TARGET_DIR + \"/*/*.txt\"):\n",
    "    wc = int(subprocess.check_output(\"wc -w '\" + txt + \"'\", shell=True).split()[0])\n",
    "    wordcounts[txt] = wc"
   ]
  },
  {
   "cell_type": "code",
   "execution_count": null,
   "metadata": {
    "collapsed": false
   },
   "outputs": [],
   "source": [
    "df = pd.DataFrame(pd.Series(wordcounts))\n",
    "ax = df.plot(kind=\"bar\", title=\"Length of dissertations over time\")\n",
    "ax.xaxis.set_ticklabels([])\n",
    "df.describe().transpose()"
   ]
  },
  {
   "cell_type": "code",
   "execution_count": 11,
   "metadata": {
    "collapsed": false
   },
   "outputs": [
    {
     "name": "stdout",
     "output_type": "stream",
     "text": [
      "David Henty dissertations/2001-2002/ajackson.txt\n",
      "David Henty dissertations/2002-2003/2453683_12b-1.3.txt\n",
      "David Henty dissertations/2002-2003/2456502_12b-1.1.txt\n",
      "David Henty dissertations/2004-2005/0308429-9j-dissertation1.1.txt\n",
      "David Henty dissertations/2004-2005/9650843-9i-dissertation1.1.txt\n",
      "David Henty dissertations/2004-2005/9657575-9i-dissertation1.2.txt\n",
      "David Henty dissertations/2005-2006/2071976-9i-dissertation1.1.txt\n",
      "David Henty dissertations/2005-2006/2688821-9h-dissertation1.1.txt\n",
      "David Henty dissertations/2005-2006/3224087-9j-dissertation1.4.txt\n",
      "David Henty dissertations/2005-2006/3365198-9a-dissertation1.3.txt\n",
      "David Henty dissertations/2005-2006/6972209-9b-dissertation1.2.txt\n",
      "David Henty dissertations/2005-2006/bdobbins.txt\n",
      "David Henty dissertations/2006-2007/6547365-27d-d07rep1.2.txt\n",
      "David Henty dissertations/2007-2008/Emilia_Tang.txt\n",
      "David Henty dissertations/2007-2008/Jianfei_Fu.txt\n",
      "David Henty dissertations/2007-2008/Paul_Woodhams.txt\n",
      "David Henty dissertations/2008-2009/Hui_Jiang.txt\n",
      "David Henty dissertations/2008-2009/James_Read.txt\n",
      "David Henty dissertations/2008-2009/Rajesh_Babu.txt\n",
      "David Henty dissertations/2008-2009/Srinivasa_Ongole.txt\n",
      "David Henty dissertations/2009-2010/Daniel%20Wilde.txt\n",
      "David Henty dissertations/2010-2011/IoannisTsilkos.txt\n",
      "David Henty dissertations/2010-2011/LesleisNagy.txt\n",
      "David Henty dissertations/2010-2011/ThomasRichard.txt\n",
      "David Henty dissertations/2011-2012/Micheal%20Holiday.txt\n",
      "David Henty dissertations/2011-2012/Submission-1138832.txt\n",
      "David Henty dissertations/2011-2012/Submission-1149926.txt\n",
      "David Henty dissertations/2011-2012/Submission-1150361.txt\n",
      "David Henty dissertations/2011-2012/Submission-1159397.txt\n",
      "David Henty dissertations/2012-2013/A%20hybrid%20MPI%20-%20OpenMP%20Parallelisation%20of%20a%20Tax%20and%20Benefits%20Application.txt\n",
      "David Henty dissertations/2012-2013/Diagrammatic%20Determinantal%20Quantum%20Monte%20Carlo%20Calculations%20on%20GPUs.txt\n",
      "David Henty dissertations/2012-2013/Performance%20Investigation%20and%20Parallelisation%20of%20the%20CosmoNest%20code_0.txt\n",
      "David Henty dissertations/2012-2013/Poisson%20Solvers%20for%20Electrokinetic%20Problems.txt\n"
     ]
    }
   ],
   "source": [
    "words = \"Proeme\", \"Nick Johnson\", \"Nicholas Johnson\", \"David Henty\"\n",
    "for pdf in glob.glob(TARGET_DIR + \"/*/*.txt\"):\n",
    "    with open(pdf, 'r') as fi:\n",
    "        content = fi.read()\n",
    "    for _ in words:\n",
    "        if _ in content:\n",
    "            print _, pdf\n",
    "            break\n",
    "            "
   ]
  },
  {
   "cell_type": "code",
   "execution_count": null,
   "metadata": {
    "collapsed": true
   },
   "outputs": [],
   "source": []
  }
 ],
 "metadata": {
  "kernelspec": {
   "display_name": "Python 2",
   "language": "python",
   "name": "python2"
  },
  "language_info": {
   "codemirror_mode": {
    "name": "ipython",
    "version": 2
   },
   "file_extension": ".py",
   "mimetype": "text/x-python",
   "name": "python",
   "nbconvert_exporter": "python",
   "pygments_lexer": "ipython2",
   "version": "2.7.9"
  }
 },
 "nbformat": 4,
 "nbformat_minor": 0
}
